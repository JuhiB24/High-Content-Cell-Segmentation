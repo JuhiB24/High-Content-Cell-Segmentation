{
 "cells": [
  {
   "cell_type": "code",
   "execution_count": 1,
   "id": "7ce94f8f",
   "metadata": {},
   "outputs": [],
   "source": [
    "import cv2\n",
    "import os\n",
    "import numpy as np\n",
    "from cellpose import models, io\n",
    "\n",
    "# Function to crop the image into patches\n",
    "def crop_image(image, patch_size):\n",
    "    height, width = image.shape[:2]\n",
    "    patches = []\n",
    "    for y in range(0, height, patch_size):\n",
    "        for x in range(0, width, patch_size):\n",
    "            patch = image[y:y+patch_size, x:x+patch_size]\n",
    "            patches.append(patch)\n",
    "    return patches"
   ]
  },
  {
   "cell_type": "code",
   "execution_count": null,
   "id": "f60f4452",
   "metadata": {},
   "outputs": [],
   "source": [
    "# Load the image of the 96 well plate\n",
    "plate_image = cv2.imread(\"D:/AI-ML TenSixty INTERNSHIP/96_well_plate.jpg\")\n",
    "\n",
    "# Define patch size (adjust according to your well dimensions)\n",
    "patch_size = 100\n",
    "\n",
    "# Specify the desired output directory\n",
    "output_dir = \"D:/AI-ML TenSixty INTERNSHIP/original well patches\"\n",
    "\n",
    "# Create directory to save cropped images\n",
    "os.makedirs(output_dir, exist_ok=True)"
   ]
  },
  {
   "cell_type": "code",
   "execution_count": null,
   "id": "0f8b95e2",
   "metadata": {},
   "outputs": [],
   "source": [
    "# Crop the image into patches\n",
    "well_patches = crop_image(plate_image, patch_size)"
   ]
  },
  {
   "cell_type": "code",
   "execution_count": null,
   "id": "a53f250a",
   "metadata": {},
   "outputs": [],
   "source": [
    "# Save each patch as a separate image file\n",
    "for i, patch in enumerate(well_patches):\n",
    "    output_path = os.path.join(output_dir, f\"well_{i}.jpg\")\n",
    "    cv2.imwrite(output_path, patch)"
   ]
  },
  {
   "cell_type": "code",
   "execution_count": null,
   "id": "d34b94c8",
   "metadata": {},
   "outputs": [],
   "source": [
    "# Initialize Cellpose model for nuclei segmentation\n",
    "model = models.Cellpose(gpu=False, model_type='nuclei')\n",
    "\n",
    "# List to store segmentation results for each well\n",
    "segmentation_results = []"
   ]
  },
  {
   "cell_type": "code",
   "execution_count": null,
   "id": "8bb71929",
   "metadata": {},
   "outputs": [],
   "source": [
    "# Analyze each well using Cellpose\n",
    "for i, patch_path in enumerate(well_patches):\n",
    "    # Load the cropped image\n",
    "    patch_image = io.imread(patch_path)\n",
    "\n",
    "    # Segment nuclei using Cellpose\n",
    "    masks, _, _, _ = model.eval(patch_image, diameter=30, channels=[0, 0])\n",
    "\n",
    "    # Save segmentation mask\n",
    "    segmentation_results.append(masks)"
   ]
  },
  {
   "cell_type": "code",
   "execution_count": null,
   "id": "bf866230",
   "metadata": {},
   "outputs": [],
   "source": [
    "# Convert segmentation results to binary masks\n",
    "binary_masks = [(mask > 0).astype(np.uint8) for mask in segmentation_results]"
   ]
  },
  {
   "cell_type": "code",
   "execution_count": null,
   "id": "1e2f2a78",
   "metadata": {},
   "outputs": [],
   "source": [
    "# Define the directory to save the segmentation mask images\n",
    "mask_output_dir = \"D:/AI-ML TenSixty INTERNSHIP/segmented image\"\n",
    "\n",
    "# Create the directory if it doesn't exist\n",
    "os.makedirs(mask_output_dir, exist_ok=True)\n",
    "\n",
    "# Save segmentation masks as images (optional)\n",
    "for i, mask in enumerate(binary_masks):\n",
    "    output_mask_path = os.path.join(mask_output_dir, f\"well_{i}_mask.jpg\")\n",
    "    cv2.imwrite(output_mask_path, mask * 255)"
   ]
  },
  {
   "cell_type": "code",
   "execution_count": null,
   "id": "de9eae84",
   "metadata": {},
   "outputs": [],
   "source": [
    "import cv2\n",
    "import os\n",
    "import numpy as np\n",
    "import pandas as pd\n",
    "\n",
    "# Function to calculate average brightness within segmented cells\n",
    "def calculate_average_brightness(segmentation_mask, well_image):\n",
    "    brightness_values = []\n",
    "    for cell_index in range(1, np.max(segmentation_mask) + 1):\n",
    "        # Mask the original image with the segmentation mask for the current cell\n",
    "        masked_image = cv2.bitwise_and(well_image, well_image, mask=np.uint8(segmentation_mask == cell_index))\n",
    "\n",
    "        # Calculate the mean intensity of the pixels within the masked region\n",
    "        brightness = np.mean(masked_image[np.nonzero(masked_image)])\n",
    "        brightness_values.append(brightness)\n",
    "\n",
    "    # Calculate the average brightness for the well\n",
    "    average_brightness = np.mean(brightness_values)\n",
    "    return average_brightness"
   ]
  },
  {
   "cell_type": "code",
   "execution_count": null,
   "id": "01f2f6ca",
   "metadata": {},
   "outputs": [],
   "source": [
    "# Directory paths\n",
    "segmentation_masks_dir = \"D:/AI-ML TenSixty INTERNSHIP/segmented image\"\n",
    "well_images_dir = \"D:/AI-ML TenSixty INTERNSHIP/original well patches\"\n",
    "\n",
    "# Initialize a list to store results\n",
    "results = []"
   ]
  },
  {
   "cell_type": "code",
   "execution_count": null,
   "id": "abc59d2b",
   "metadata": {},
   "outputs": [],
   "source": [
    "# Loop through segmentation masks and original images\n",
    "for filename in os.listdir(segmentation_masks_dir):\n",
    "    if filename.endswith(\".jpg\"):\n",
    "        # Load segmentation mask\n",
    "        segmentation_mask_path = os.path.join(segmentation_masks_dir, filename)\n",
    "        segmentation_mask = cv2.imread(segmentation_mask_path, cv2.IMREAD_GRAYSCALE)\n",
    "\n",
    "        # Corresponding well image filename\n",
    "        well_image_filename = filename.replace(\"_mask.jpg\", \".jpg\")\n",
    "        well_image_path = os.path.join(well_images_dir, well_image_filename)\n",
    "\n",
    "        # Load original well image\n",
    "        well_image = cv2.imread(well_image_path, cv2.IMREAD_COLOR)\n",
    "\n",
    "        # Calculate average brightness\n",
    "        average_brightness = calculate_average_brightness(segmentation_mask, well_image)\n",
    "\n",
    "        # Store results\n",
    "        results.append({\n",
    "            'Well': filename.split('_')[1].split('.')[0],  # Extract well ID from filename\n",
    "            'Average_Brightness': average_brightness\n",
    "        })"
   ]
  },
  {
   "cell_type": "code",
   "execution_count": null,
   "id": "59251375",
   "metadata": {},
   "outputs": [],
   "source": [
    "# Convert results to DataFrame\n",
    "results_df = pd.DataFrame(results)\n",
    "\n",
    "# Save results to CSV\n",
    "results_csv_path = \"D:/AI-ML TenSixty INTERNSHIP/average_brightness.csv\"\n",
    "results_df.to_csv(results_csv_path, index=False)"
   ]
  },
  {
   "cell_type": "code",
   "execution_count": null,
   "id": "0f29b466",
   "metadata": {},
   "outputs": [],
   "source": []
  }
 ],
 "metadata": {
  "kernelspec": {
   "display_name": "Python 3",
   "language": "python",
   "name": "python3"
  },
  "language_info": {
   "codemirror_mode": {
    "name": "ipython",
    "version": 3
   },
   "file_extension": ".py",
   "mimetype": "text/x-python",
   "name": "python",
   "nbconvert_exporter": "python",
   "pygments_lexer": "ipython3",
   "version": "3.8.8"
  }
 },
 "nbformat": 4,
 "nbformat_minor": 5
}
