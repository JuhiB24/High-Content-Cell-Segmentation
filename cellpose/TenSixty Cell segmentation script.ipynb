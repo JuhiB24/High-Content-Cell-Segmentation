{
 "cells": [
  {
   "cell_type": "code",
   "execution_count": 2,
   "id": "a719985d",
   "metadata": {},
   "outputs": [
    {
     "name": "stdout",
     "output_type": "stream",
     "text": [
      "Enter path to the original folder: D:\\AI-ML TenSixty INTERNSHIP\\original image\n",
      "Enter model type (cyto or nuclei): nuclei\n",
      "Enter path to the folder where plots will be saved: D:\\AI-ML TenSixty INTERNSHIP\\segmented image (nuclei)\n",
      "The segmented images have been saved to the desired location successfully!!!\n"
     ]
    }
   ],
   "source": [
    "import os\n",
    "import cv2\n",
    "import numpy as np\n",
    "from cellpose import models\n",
    "from matplotlib import pyplot as plt\n",
    "\n",
    "def segment_cells():\n",
    "    # Get user input for original folder, model type, and save folder\n",
    "    original_folder = input(\"Enter path to the original folder: \")\n",
    "    model_type = input(\"Enter model type (cyto or nuclei): \")\n",
    "    save_folder = input(\"Enter path to the folder where plots will be saved: \")\n",
    "    \n",
    "    # Load Cellpose model\n",
    "    model = models.Cellpose(gpu=False, model_type=model_type)\n",
    "    \n",
    "    # Get list of image files in the original folder\n",
    "    image_files = [f for f in os.listdir(original_folder) if f.lower().endswith(('.png', '.jpg', '.jpeg', '.bmp'))]\n",
    "    \n",
    "    # Create save folder if it doesn't exist\n",
    "    if not os.path.exists(save_folder):\n",
    "        os.makedirs(save_folder)\n",
    "    \n",
    "    # Process each image\n",
    "    for image_file in image_files:\n",
    "        # Load image\n",
    "        image_path = os.path.join(original_folder, image_file)\n",
    "        img = cv2.imread(image_path, cv2.IMREAD_GRAYSCALE)\n",
    "        \n",
    "        # Resize image to 704x520 \n",
    "        if img.shape != (520, 704):\n",
    "            img = cv2.resize(img, (704, 520))\n",
    "        \n",
    "        # Run Cellpose\n",
    "        masks, _, _, _ = model.eval(img, diameter=None, channels=[0, 0], flow_threshold=None)\n",
    "        \n",
    "        # Display results\n",
    "        fig, axes = plt.subplots(1, 3, figsize=(15, 5))\n",
    "        axes[0].imshow(img, cmap='gray')\n",
    "        axes[0].set_title('Original Image')\n",
    "        axes[1].imshow(masks, cmap='jet')\n",
    "        axes[1].set_title('Predicted Masks')\n",
    "        axes[2].imshow(img, cmap='gray')\n",
    "        axes[2].contour(masks, colors='r')\n",
    "        axes[2].set_title('Predicted Outlines')\n",
    "        \n",
    "        # Save plot\n",
    "        save_path = os.path.join(save_folder, f\"{image_file.split('.')[0]}_segmentation.png\")\n",
    "        plt.savefig(save_path)\n",
    "        plt.close()\n",
    "        \n",
    "        # Show plot\n",
    "        plt.show()\n",
    "\n",
    "# Call the function to start the segmentation process\n",
    "segment_cells()\n",
    "print(\"The segmented images have been saved to the desired location successfully!!!\")"
   ]
  },
  {
   "cell_type": "code",
   "execution_count": null,
   "id": "977678fa",
   "metadata": {},
   "outputs": [],
   "source": []
  }
 ],
 "metadata": {
  "kernelspec": {
   "display_name": "Python 3",
   "language": "python",
   "name": "python3"
  },
  "language_info": {
   "codemirror_mode": {
    "name": "ipython",
    "version": 3
   },
   "file_extension": ".py",
   "mimetype": "text/x-python",
   "name": "python",
   "nbconvert_exporter": "python",
   "pygments_lexer": "ipython3",
   "version": "3.8.8"
  }
 },
 "nbformat": 4,
 "nbformat_minor": 5
}
